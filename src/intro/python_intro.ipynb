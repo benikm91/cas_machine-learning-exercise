{
 "cells": [
  {
   "cell_type": "code",
   "execution_count": 1,
   "metadata": {
    "pycharm": {
     "name": "#%%\n"
    }
   },
   "outputs": [],
   "source": [
    "import os\n",
    "\n",
    "def file_path(relative_path):\n",
    "    script_dir = os.path.abspath('')\n",
    "    return os.path.join(script_dir, relative_path)"
   ]
  },
  {
   "cell_type": "markdown",
   "metadata": {},
   "source": [
    "# Appendix"
   ]
  },
  {
   "cell_type": "markdown",
   "metadata": {},
   "source": [
    "## `python` und das Jupyter notebook\n",
    "In diesem Kurs werden wir `python` als Programmiersprache und das [*Jupyter notebook*](http://jupyter.org/) als Programmierumgebung verwenden. In einem *Jupyter notebook* können formatierter (mit *Markdown*, inkl. mathematischer Formeln in *LaTex*) Text, `code`, Bilder, Plots, Videos usw. nebeneinander eingefügt werden. Ein Notebook eignet sich deswegen ausgezeichnet, um eine Analyse von Daten zu entwickeln, die Entstehung einer Analyse zu dokumentieren, Forschungsresultate zu teilen, oder eben auch für den Unterricht."
   ]
  },
  {
   "cell_type": "markdown",
   "metadata": {},
   "source": [
    "### *Cells* im Jupyter Notebook\n",
    "- code cells\n",
    "    - execute (`Shift+Enter`)\n",
    "    - magic functions (`%%bash`, `%timeit`, `%lsmagic`)\n",
    "    - ? => docstring\n",
    "    - debug\n",
    "\n",
    "- markdown cells\n",
    "    - latex\n",
    "        - `$\\sum_{i=1}^n$` : $\\sum_{i=1}^n$\n",
    "        - `$\\alpha, \\beta, \\varepsilon, \\mu, \\dots $` : $\\alpha, \\beta, \\varepsilon, \\mu, \\dots$\n",
    "        - .. oder für etwas kompliziertere Gleichungen:\n",
    "\n",
    "                begin{equation}\n",
    "                \\mu = \\frac{1}{n-1}\\sum_{i=1}^n x_i\n",
    "                \\end{equation}\n",
    "\n",
    "\n",
    "\\begin{equation}\n",
    "\\mu = \\frac{1}{n-1}\\sum_{i=1}^n x_i\n",
    "\\end{equation}"
   ]
  },
  {
   "cell_type": "code",
   "execution_count": 2,
   "metadata": {
    "pycharm": {
     "name": "#%%\n"
    }
   },
   "outputs": [
    {
     "data": {
      "text/plain": "Available line magics:\n%alias  %alias_magic  %autoawait  %autocall  %automagic  %autosave  %bookmark  %cat  %cd  %clear  %colors  %conda  %config  %connect_info  %cp  %debug  %dhist  %dirs  %doctest_mode  %ed  %edit  %env  %gui  %hist  %history  %killbgscripts  %ldir  %less  %lf  %lk  %ll  %load  %load_ext  %loadpy  %logoff  %logon  %logstart  %logstate  %logstop  %ls  %lsmagic  %lx  %macro  %magic  %man  %matplotlib  %mkdir  %more  %mv  %notebook  %page  %pastebin  %pdb  %pdef  %pdoc  %pfile  %pinfo  %pinfo2  %pip  %popd  %pprint  %precision  %prun  %psearch  %psource  %pushd  %pwd  %pycat  %pylab  %qtconsole  %quickref  %recall  %rehashx  %reload_ext  %rep  %rerun  %reset  %reset_selective  %rm  %rmdir  %run  %save  %sc  %set_env  %store  %sx  %system  %tb  %time  %timeit  %unalias  %unload_ext  %who  %who_ls  %whos  %xdel  %xmode\n\nAvailable cell magics:\n%%!  %%HTML  %%SVG  %%bash  %%capture  %%debug  %%file  %%html  %%javascript  %%js  %%latex  %%markdown  %%perl  %%prun  %%pypy  %%python  %%python2  %%python3  %%ruby  %%script  %%sh  %%svg  %%sx  %%system  %%time  %%timeit  %%writefile\n\nAutomagic is ON, % prefix IS NOT needed for line magics.",
      "application/json": {
       "line": {
        "automagic": "AutoMagics",
        "autocall": "AutoMagics",
        "alias_magic": "BasicMagics",
        "lsmagic": "BasicMagics",
        "magic": "BasicMagics",
        "page": "BasicMagics",
        "pprint": "BasicMagics",
        "colors": "BasicMagics",
        "xmode": "BasicMagics",
        "quickref": "BasicMagics",
        "doctest_mode": "BasicMagics",
        "gui": "BasicMagics",
        "precision": "BasicMagics",
        "notebook": "BasicMagics",
        "save": "CodeMagics",
        "pastebin": "CodeMagics",
        "loadpy": "CodeMagics",
        "load": "CodeMagics",
        "edit": "KernelMagics",
        "config": "ConfigMagics",
        "prun": "ExecutionMagics",
        "pdb": "ExecutionMagics",
        "debug": "ExecutionMagics",
        "tb": "ExecutionMagics",
        "run": "ExecutionMagics",
        "timeit": "ExecutionMagics",
        "time": "ExecutionMagics",
        "macro": "ExecutionMagics",
        "load_ext": "ExtensionMagics",
        "unload_ext": "ExtensionMagics",
        "reload_ext": "ExtensionMagics",
        "history": "HistoryMagics",
        "recall": "HistoryMagics",
        "rerun": "HistoryMagics",
        "logstart": "LoggingMagics",
        "logstop": "LoggingMagics",
        "logoff": "LoggingMagics",
        "logon": "LoggingMagics",
        "logstate": "LoggingMagics",
        "pinfo": "NamespaceMagics",
        "pinfo2": "NamespaceMagics",
        "pdef": "NamespaceMagics",
        "pdoc": "NamespaceMagics",
        "psource": "NamespaceMagics",
        "pfile": "NamespaceMagics",
        "psearch": "NamespaceMagics",
        "who_ls": "NamespaceMagics",
        "who": "NamespaceMagics",
        "whos": "NamespaceMagics",
        "reset": "NamespaceMagics",
        "reset_selective": "NamespaceMagics",
        "xdel": "NamespaceMagics",
        "alias": "OSMagics",
        "unalias": "OSMagics",
        "rehashx": "OSMagics",
        "pwd": "OSMagics",
        "cd": "OSMagics",
        "env": "OSMagics",
        "set_env": "OSMagics",
        "pushd": "OSMagics",
        "popd": "OSMagics",
        "dirs": "OSMagics",
        "dhist": "OSMagics",
        "sc": "OSMagics",
        "sx": "OSMagics",
        "system": "OSMagics",
        "bookmark": "OSMagics",
        "pycat": "OSMagics",
        "pip": "PackagingMagics",
        "conda": "PackagingMagics",
        "matplotlib": "PylabMagics",
        "pylab": "PylabMagics",
        "killbgscripts": "ScriptMagics",
        "autoawait": "AsyncMagics",
        "ed": "Other",
        "hist": "Other",
        "rep": "Other",
        "clear": "KernelMagics",
        "less": "KernelMagics",
        "more": "KernelMagics",
        "man": "KernelMagics",
        "connect_info": "KernelMagics",
        "qtconsole": "KernelMagics",
        "autosave": "KernelMagics",
        "mkdir": "Other",
        "rmdir": "Other",
        "mv": "Other",
        "rm": "Other",
        "cp": "Other",
        "cat": "Other",
        "ls": "Other",
        "ll": "Other",
        "lf": "Other",
        "lk": "Other",
        "ldir": "Other",
        "lx": "Other",
        "store": "StoreMagics"
       },
       "cell": {
        "js": "DisplayMagics",
        "javascript": "DisplayMagics",
        "latex": "DisplayMagics",
        "svg": "DisplayMagics",
        "html": "DisplayMagics",
        "markdown": "DisplayMagics",
        "prun": "ExecutionMagics",
        "debug": "ExecutionMagics",
        "timeit": "ExecutionMagics",
        "time": "ExecutionMagics",
        "capture": "ExecutionMagics",
        "sx": "OSMagics",
        "system": "OSMagics",
        "!": "OSMagics",
        "writefile": "OSMagics",
        "script": "ScriptMagics",
        "sh": "Other",
        "bash": "Other",
        "perl": "Other",
        "ruby": "Other",
        "python": "Other",
        "python2": "Other",
        "python3": "Other",
        "pypy": "Other",
        "SVG": "Other",
        "HTML": "Other",
        "file": "Other"
       }
      }
     },
     "execution_count": 2,
     "metadata": {},
     "output_type": "execute_result"
    }
   ],
   "source": [
    "%lsmagic"
   ]
  },
  {
   "cell_type": "markdown",
   "metadata": {},
   "source": [
    "## `python` - crash-Kurs\n",
    "- dynamisch typisierte, interpretierte Programmiersprache\n",
    "- *'code is more often read than written'*\n",
    "- eignet sich ausgezeichnet um Bibliotheken in anderen Sprachen miteinzubinden : `numpy`"
   ]
  },
  {
   "cell_type": "markdown",
   "metadata": {},
   "source": [
    "- **PEP 8** - Python Style-Guide : https://www.python.org/dev/peps/pep-0008/"
   ]
  },
  {
   "cell_type": "code",
   "execution_count": 3,
   "metadata": {
    "pycharm": {
     "name": "#%%\n"
    }
   },
   "outputs": [
    {
     "name": "stdout",
     "output_type": "stream",
     "text": [
      "Hello World!\n"
     ]
    }
   ],
   "source": [
    "print('Hello World!')"
   ]
  },
  {
   "cell_type": "markdown",
   "metadata": {},
   "source": [
    "### Numbers\n",
    "\n",
    "#### int, float, (long, complex)"
   ]
  },
  {
   "cell_type": "code",
   "execution_count": 4,
   "metadata": {
    "pycharm": {
     "name": "#%%\n"
    }
   },
   "outputs": [
    {
     "data": {
      "text/plain": "3.0"
     },
     "execution_count": 4,
     "metadata": {},
     "output_type": "execute_result"
    }
   ],
   "source": [
    "x = 3.\n",
    "x"
   ]
  },
  {
   "cell_type": "code",
   "execution_count": 5,
   "metadata": {
    "pycharm": {
     "name": "#%%\n"
    }
   },
   "outputs": [
    {
     "data": {
      "text/plain": "float"
     },
     "execution_count": 5,
     "metadata": {},
     "output_type": "execute_result"
    }
   ],
   "source": [
    "type(x)"
   ]
  },
  {
   "cell_type": "code",
   "execution_count": 6,
   "metadata": {
    "pycharm": {
     "name": "#%%\n"
    }
   },
   "outputs": [
    {
     "name": "stdout",
     "output_type": "stream",
     "text": [
      "4.0\n",
      "2.0\n",
      "6.0\n",
      "9.0\n"
     ]
    }
   ],
   "source": [
    "print(x+1)\n",
    "print(x-1)\n",
    "print(x*2)\n",
    "print(x**2)"
   ]
  },
  {
   "cell_type": "code",
   "execution_count": 7,
   "metadata": {
    "pycharm": {
     "name": "#%%\n"
    }
   },
   "outputs": [
    {
     "data": {
      "text/plain": "1.75"
     },
     "execution_count": 7,
     "metadata": {},
     "output_type": "execute_result"
    }
   ],
   "source": [
    "7/4 # python 3.x"
   ]
  },
  {
   "cell_type": "markdown",
   "metadata": {},
   "source": [
    "### Booleans"
   ]
  },
  {
   "cell_type": "code",
   "execution_count": 8,
   "metadata": {
    "pycharm": {
     "name": "#%%\n"
    }
   },
   "outputs": [
    {
     "name": "stdout",
     "output_type": "stream",
     "text": [
      "False\n",
      "True\n",
      "False\n",
      "True\n"
     ]
    },
    {
     "data": {
      "text/plain": "bool"
     },
     "execution_count": 8,
     "metadata": {},
     "output_type": "execute_result"
    }
   ],
   "source": [
    "t = True\n",
    "f = False\n",
    "print(t and f)\n",
    "print(t or f)\n",
    "print(not t)\n",
    "print(t != f)\n",
    "type(t)"
   ]
  },
  {
   "cell_type": "markdown",
   "metadata": {},
   "source": [
    "### Strings"
   ]
  },
  {
   "cell_type": "code",
   "execution_count": 9,
   "metadata": {
    "pycharm": {
     "name": "#%%\n"
    }
   },
   "outputs": [
    {
     "name": "stdout",
     "output_type": "stream",
     "text": [
      "hithere!\n",
      "hi there!\n"
     ]
    }
   ],
   "source": [
    "hello = 'hi'\n",
    "world = 'there!'\n",
    "print(hello+world)\n",
    "print(' '.join([hello, world]))"
   ]
  },
  {
   "cell_type": "markdown",
   "metadata": {},
   "source": [
    "#### 'everything is an object'\n",
    "\n",
    "Schlussendlich hängt es etwas von der Definition des Begriffs 'Objekt' ab, doch zumindest kann man sagen, dass sämtliche Instanzen in python sowohl\n",
    "\n",
    "- Methoden\n",
    "\n",
    "wie auch\n",
    "\n",
    "- Attribute\n",
    "\n",
    "haben:\n"
   ]
  },
  {
   "cell_type": "code",
   "execution_count": 10,
   "metadata": {
    "pycharm": {
     "name": "#%%\n"
    }
   },
   "outputs": [
    {
     "name": "stdout",
     "output_type": "stream",
     "text": [
      "__add__, __class__, __contains__, __delattr__, __dir__, __doc__, __eq__, __format__, __ge__, __getattribute__, __getitem__, __getnewargs__, __gt__, __hash__, __init__, __init_subclass__, __iter__, __le__, __len__, __lt__, __mod__, __mul__, __ne__, __new__, __reduce__, __reduce_ex__, __repr__, __rmod__, __rmul__, __setattr__, __sizeof__, __str__, __subclasshook__, capitalize, casefold, center, count, encode, endswith, expandtabs, find, format, format_map, index, isalnum, isalpha, isascii, isdecimal, isdigit, isidentifier, islower, isnumeric, isprintable, isspace, istitle, isupper, join, ljust, lower, lstrip, maketrans, partition, removeprefix, removesuffix, replace, rfind, rindex, rjust, rpartition, rsplit, rstrip, split, splitlines, startswith, strip, swapcase, title, translate, upper, zfill\n"
     ]
    }
   ],
   "source": [
    "print(', '.join(dir(hello)))"
   ]
  },
  {
   "cell_type": "code",
   "execution_count": 11,
   "metadata": {
    "pycharm": {
     "name": "#%%\n"
    }
   },
   "outputs": [
    {
     "data": {
      "text/plain": "'Hi'"
     },
     "execution_count": 11,
     "metadata": {},
     "output_type": "execute_result"
    }
   ],
   "source": [
    "hello.capitalize()"
   ]
  },
  {
   "cell_type": "code",
   "execution_count": 12,
   "metadata": {
    "pycharm": {
     "name": "#%%\n"
    }
   },
   "outputs": [
    {
     "data": {
      "text/plain": "True"
     },
     "execution_count": 12,
     "metadata": {},
     "output_type": "execute_result"
    }
   ],
   "source": [
    "hello.startswith('h')"
   ]
  },
  {
   "cell_type": "code",
   "execution_count": 13,
   "metadata": {
    "pycharm": {
     "name": "#%%\n"
    }
   },
   "outputs": [
    {
     "name": "stdout",
     "output_type": "stream",
     "text": [
      "A watermelon is a fruit.\n"
     ]
    }
   ],
   "source": [
    "# string formatting\n",
    "print('A {obj} is a {group}.'.format(obj='watermelon', group='fruit'))"
   ]
  },
  {
   "cell_type": "markdown",
   "metadata": {},
   "source": [
    "### Container"
   ]
  },
  {
   "cell_type": "markdown",
   "metadata": {},
   "source": [
    "#### Lists\n",
    "Resizeable ordered container for varying types."
   ]
  },
  {
   "cell_type": "code",
   "execution_count": 14,
   "metadata": {
    "pycharm": {
     "name": "#%%\n"
    }
   },
   "outputs": [
    {
     "name": "stdout",
     "output_type": "stream",
     "text": [
      "['b', 'sali']\n",
      "99.0\n",
      "sali\n"
     ]
    }
   ],
   "source": [
    "a = [1, 'b', 'hoi', 99.]\n",
    "a[2] = 'sali'\n",
    "print(a[1:3])\n",
    "print(a[-1])\n",
    "print(a[-2])"
   ]
  },
  {
   "cell_type": "markdown",
   "metadata": {},
   "source": [
    "#### Dicts\n",
    "Container for key-value-pairs\n"
   ]
  },
  {
   "cell_type": "code",
   "execution_count": 15,
   "metadata": {
    "pycharm": {
     "name": "#%%\n"
    }
   },
   "outputs": [
    {
     "name": "stdout",
     "output_type": "stream",
     "text": [
      "{'python': ['numpy', 'scikit-learn', 'theano'], 'java': ['WEKA'], 'matlab': ['matlab']}\n",
      "['WEKA']\n"
     ]
    }
   ],
   "source": [
    "a = {\n",
    "    'python': ['numpy', 'scikit-learn', 'theano', ],\n",
    "    'java': ['WEKA',]\n",
    "    }\n",
    "a['matlab'] = ['matlab', ]\n",
    "print(a)\n",
    "print(a['java'])"
   ]
  },
  {
   "cell_type": "markdown",
   "metadata": {},
   "source": [
    "Kann als `switch` statement verwendet werden, wenn der Value mit einer Funktion besetzt wird."
   ]
  },
  {
   "cell_type": "code",
   "execution_count": 16,
   "metadata": {
    "pycharm": {
     "name": "#%%\n"
    }
   },
   "outputs": [],
   "source": [
    "# illustration of 'switch statement' through dictionary\n",
    "\n",
    "def add(a, b):\n",
    "    return a+b\n",
    "\n",
    "def subract(a, b):\n",
    "    return a-b\n",
    "\n",
    "def do(a, b, what='add'):\n",
    "\n",
    "    switch = {\n",
    "        'add': add,\n",
    "         'subtract': subtract,\n",
    "     }\n",
    "\n",
    "    return switch[what](a, b)"
   ]
  },
  {
   "cell_type": "markdown",
   "metadata": {},
   "source": [
    "#### Sets\n",
    "Immutable, unorderded collection of distinct elements."
   ]
  },
  {
   "cell_type": "code",
   "execution_count": 17,
   "metadata": {
    "pycharm": {
     "name": "#%%\n"
    }
   },
   "outputs": [
    {
     "name": "stdout",
     "output_type": "stream",
     "text": [
      "{1.0, 'fish', 'cat', 'dog'}\n",
      "True\n"
     ]
    }
   ],
   "source": [
    "animals = {'cat', 'dog', 'fish', 'dog', 1., 1}\n",
    "print(animals)\n",
    "print('dog' in animals)"
   ]
  },
  {
   "cell_type": "markdown",
   "metadata": {},
   "source": [
    "#### Tuples\n",
    "Immutable, ordered list of values. Can be used as keys in dictionaries, lists cannot."
   ]
  },
  {
   "cell_type": "code",
   "execution_count": 18,
   "metadata": {
    "pycharm": {
     "name": "#%%\n"
    }
   },
   "outputs": [
    {
     "name": "stdout",
     "output_type": "stream",
     "text": [
      "{(0, 1): 0, (1, 2): 1, (2, 3): 2, (3, 4): 3, (4, 5): 4, (5, 6): 5, (6, 7): 6, (7, 8): 7, (8, 9): 8, (9, 10): 9}\n",
      "(5, 6)\n",
      "5\n",
      "1\n"
     ]
    }
   ],
   "source": [
    "d = {(x, x + 1): x for x in range(10)}  # Create a dictionary with tuple keys\n",
    "t = (5, 6)       # Create a tuple\n",
    "print(d)\n",
    "print(t)\n",
    "print(d[t])\n",
    "print(d[(1, 2)])"
   ]
  },
  {
   "cell_type": "markdown",
   "metadata": {},
   "source": [
    "### `for` - loop"
   ]
  },
  {
   "cell_type": "code",
   "execution_count": 19,
   "metadata": {
    "pycharm": {
     "name": "#%%\n"
    }
   },
   "outputs": [
    {
     "name": "stdout",
     "output_type": "stream",
     "text": [
      "0\n",
      "1\n",
      "2\n",
      "3\n",
      "sali\n",
      "du\n"
     ]
    }
   ],
   "source": [
    "for idx in range(len(animals)):\n",
    "    print(idx)\n",
    "\n",
    "for idx in ['sali', 'du']:\n",
    "    print(idx)"
   ]
  },
  {
   "cell_type": "code",
   "execution_count": 20,
   "metadata": {
    "pycharm": {
     "name": "#%%\n"
    }
   },
   "outputs": [
    {
     "name": "stdout",
     "output_type": "stream",
     "text": [
      "no 0: Bob, length=3, sex: male\n",
      "no 1: Lisa, length=4, sex: female\n",
      "no 2: Bill, length=4, sex: male\n",
      "no 3: Sally, length=5, sex: female\n"
     ]
    }
   ],
   "source": [
    "for ind, name_length in enumerate([(name, len(name)) for name in ('Bob', 'Lisa', 'Bill', 'Sally')]):\n",
    "\n",
    "    kwargs = { 'i': ind, 'name': name_length[0], 'len': name_length[1] }\n",
    "\n",
    "    if name_length[0] in ('Bob', 'Bill'):\n",
    "        kwargs.update({'sex': 'male'})\n",
    "    elif name_length[0] in ('Lisa', 'Sally'):\n",
    "        kwargs['sex'] = 'female'\n",
    "    else:\n",
    "        kwargs['sex'] = 'dunno'\n",
    "\n",
    "    print('no {i}: {name}, length={len}, sex: {sex}'.format(**kwargs))"
   ]
  },
  {
   "cell_type": "markdown",
   "metadata": {},
   "source": [
    "### Funktionen und Klassen"
   ]
  },
  {
   "cell_type": "code",
   "execution_count": 21,
   "metadata": {
    "pycharm": {
     "name": "#%%\n"
    }
   },
   "outputs": [
    {
     "name": "stdout",
     "output_type": "stream",
     "text": [
      "()\n"
     ]
    },
    {
     "data": {
      "text/plain": "{'b': 100}"
     },
     "execution_count": 21,
     "metadata": {},
     "output_type": "execute_result"
    }
   ],
   "source": [
    "# PEP 8 : use lowercase characters separated by underscores for functions\n",
    "\n",
    "def my_function(fixedarg, *args, a=0, **kwargs):\n",
    "    '''print stuff'''\n",
    "    print(args)\n",
    "    return kwargs\n",
    "\n",
    "my_function(99, b=100)\n"
   ]
  },
  {
   "cell_type": "code",
   "execution_count": 22,
   "metadata": {
    "pycharm": {
     "name": "#%%\n"
    }
   },
   "outputs": [
    {
     "name": "stdout",
     "output_type": "stream",
     "text": [
      "()\n",
      "('hoi', 'du')\n"
     ]
    },
    {
     "data": {
      "text/plain": "{}"
     },
     "execution_count": 22,
     "metadata": {},
     "output_type": "execute_result"
    }
   ],
   "source": [
    "my_function(1)\n",
    "my_function(1, 'hoi', 'du')"
   ]
  },
  {
   "cell_type": "code",
   "execution_count": 23,
   "metadata": {
    "pycharm": {
     "name": "#%%\n"
    }
   },
   "outputs": [
    {
     "name": "stdout",
     "output_type": "stream",
     "text": [
      "()\n"
     ]
    },
    {
     "data": {
      "text/plain": "{'kw1': 'hoi', 'kw2': 'du'}"
     },
     "execution_count": 23,
     "metadata": {},
     "output_type": "execute_result"
    }
   ],
   "source": [
    "my_function(None, kw1='hoi', kw2='du')"
   ]
  },
  {
   "cell_type": "code",
   "execution_count": 24,
   "metadata": {
    "pycharm": {
     "name": "#%%\n"
    }
   },
   "outputs": [],
   "source": [
    "# PEP 8 : use camel case for classes\n",
    "\n",
    "class MyClass(object):\n",
    "\n",
    "    def __init__(self, number, *args, **kwargs):\n",
    "        assert(type(number) in [float, int,])\n",
    "        self.number = float(number)\n",
    "        self.init_arguments = args # positional arguments come in a tuple\n",
    "        self.a = kwargs.pop('a', None) # keyword arguments come in a dictionary\n",
    "\n",
    "        self._counter = 0 # weak do-not-touch indication by leading _\n",
    "\n",
    "    def print_a(self):\n",
    "        print('a is set to {a}'.format(a=self.a))"
   ]
  },
  {
   "cell_type": "code",
   "execution_count": 25,
   "metadata": {
    "pycharm": {
     "name": "#%%\n"
    }
   },
   "outputs": [
    {
     "name": "stdout",
     "output_type": "stream",
     "text": [
      "a is set to coucou!\n"
     ]
    }
   ],
   "source": [
    "mc = MyClass(99., a='coucou!')\n",
    "mc.print_a()"
   ]
  },
  {
   "cell_type": "markdown",
   "metadata": {},
   "source": [
    "### Python Package die wir nutzen\n",
    "\n",
    "Wir nutzen in diesem Kurs folgende Packages:\n",
    "\n",
    "- numpy\n",
    "- pandas\n",
    "- matplotlib\n",
    "- scikit-learn\n",
    "\n",
    "Es folgen crash-Kurse für alle Packages"
   ]
  },
  {
   "cell_type": "markdown",
   "metadata": {},
   "source": [
    "#### `numpy` - crash-Kurs\n",
    "\n",
    "- `arrays` : Indexing\n",
    "- schnelle, C-basierte lineare Algebra Operationen"
   ]
  },
  {
   "cell_type": "code",
   "execution_count": 26,
   "metadata": {
    "pycharm": {
     "name": "#%%\n"
    }
   },
   "outputs": [],
   "source": [
    "# the way it's typically imported\n",
    "import numpy as np"
   ]
  },
  {
   "cell_type": "code",
   "execution_count": 27,
   "metadata": {
    "pycharm": {
     "name": "#%%\n"
    }
   },
   "outputs": [
    {
     "data": {
      "text/plain": "array([[1, 2, 3],\n       [4, 5, 6],\n       [7, 8, 9]])"
     },
     "execution_count": 27,
     "metadata": {},
     "output_type": "execute_result"
    }
   ],
   "source": [
    "X = np.array([\n",
    "        [1, 2, 3,],\n",
    "        [4, 5, 6,],\n",
    "        [7, 8, 9,],\n",
    "    ])\n",
    "\n",
    "X"
   ]
  },
  {
   "cell_type": "code",
   "execution_count": 28,
   "metadata": {
    "pycharm": {
     "name": "#%%\n"
    }
   },
   "outputs": [],
   "source": [
    "X = np.random.random((5,5))"
   ]
  },
  {
   "cell_type": "code",
   "execution_count": 29,
   "metadata": {
    "pycharm": {
     "name": "#%%\n"
    }
   },
   "outputs": [
    {
     "data": {
      "text/plain": "array([[0.3269282 , 0.401883  , 0.40602543, 0.17134959, 0.05367898],\n       [0.94134026, 0.15890177, 0.48684982, 0.36526743, 0.10004232],\n       [0.28665572, 0.55168597, 0.59239584, 0.28812755, 0.06363161],\n       [0.10510867, 0.58542085, 0.12806924, 0.15688002, 0.77283624],\n       [0.56467429, 0.61021098, 0.19198915, 0.08440762, 0.59239147]])"
     },
     "execution_count": 29,
     "metadata": {},
     "output_type": "execute_result"
    }
   ],
   "source": [
    "X"
   ]
  },
  {
   "cell_type": "code",
   "execution_count": 30,
   "metadata": {
    "pycharm": {
     "name": "#%%\n"
    }
   },
   "outputs": [
    {
     "name": "stdout",
     "output_type": "stream",
     "text": [
      "[[0.3269282  0.401883   0.40602543 0.17134959 0.05367898]\n",
      " [0.94134026 0.15890177 0.48684982 0.36526743 0.10004232]\n",
      " [0.28665572 0.55168597 0.59239584 0.28812755 0.06363161]\n",
      " [0.10510867 0.58542085 0.12806924 0.15688002 0.77283624]\n",
      " [0.56467429 0.61021098 0.19198915 0.08440762 0.59239147]]\n"
     ]
    }
   ],
   "source": [
    "print(X)"
   ]
  },
  {
   "cell_type": "markdown",
   "metadata": {},
   "source": [
    "##### Slicing"
   ]
  },
  {
   "cell_type": "code",
   "execution_count": 31,
   "metadata": {
    "pycharm": {
     "name": "#%%\n"
    }
   },
   "outputs": [
    {
     "data": {
      "text/plain": "array([0.3269282 , 0.401883  , 0.40602543, 0.17134959, 0.05367898])"
     },
     "execution_count": 31,
     "metadata": {},
     "output_type": "execute_result"
    }
   ],
   "source": [
    "X[0]"
   ]
  },
  {
   "cell_type": "code",
   "execution_count": 32,
   "metadata": {
    "pycharm": {
     "name": "#%%\n"
    }
   },
   "outputs": [
    {
     "data": {
      "text/plain": "array([ True,  True,  True,  True,  True])"
     },
     "execution_count": 32,
     "metadata": {},
     "output_type": "execute_result"
    }
   ],
   "source": [
    "X[0] == X[0, :]"
   ]
  },
  {
   "cell_type": "code",
   "execution_count": 33,
   "metadata": {
    "pycharm": {
     "name": "#%%\n"
    }
   },
   "outputs": [
    {
     "data": {
      "text/plain": "array([0.3269282 , 0.94134026, 0.28665572, 0.10510867, 0.56467429])"
     },
     "execution_count": 33,
     "metadata": {},
     "output_type": "execute_result"
    }
   ],
   "source": [
    "X[:, 0]"
   ]
  },
  {
   "cell_type": "code",
   "execution_count": 34,
   "metadata": {
    "pycharm": {
     "name": "#%%\n"
    }
   },
   "outputs": [
    {
     "data": {
      "text/plain": "array([[0.36526743, 0.10004232],\n       [0.28812755, 0.06363161],\n       [0.15688002, 0.77283624]])"
     },
     "execution_count": 34,
     "metadata": {},
     "output_type": "execute_result"
    }
   ],
   "source": [
    "X[1:4, 3:]"
   ]
  },
  {
   "cell_type": "code",
   "execution_count": 35,
   "metadata": {
    "pycharm": {
     "name": "#%%\n"
    }
   },
   "outputs": [
    {
     "data": {
      "text/plain": "array([[False, False, False, False, False],\n       [ True, False, False, False, False],\n       [False,  True,  True, False, False],\n       [False,  True, False, False,  True],\n       [ True,  True, False, False,  True]])"
     },
     "execution_count": 35,
     "metadata": {},
     "output_type": "execute_result"
    }
   ],
   "source": [
    "# boolean operations on arrays\n",
    "X > 0.5"
   ]
  },
  {
   "cell_type": "code",
   "execution_count": 36,
   "metadata": {
    "pycharm": {
     "name": "#%%\n"
    }
   },
   "outputs": [
    {
     "data": {
      "text/plain": "array([0.94134026, 0.55168597, 0.59239584, 0.58542085, 0.77283624,\n       0.56467429, 0.61021098, 0.59239147])"
     },
     "execution_count": 36,
     "metadata": {},
     "output_type": "execute_result"
    }
   ],
   "source": [
    "# use a boolean array for 'value extraction'\n",
    "X[X > 0.5]"
   ]
  },
  {
   "cell_type": "markdown",
   "metadata": {},
   "source": [
    "##### Everything is an object :\n",
    "\n",
    "Auch `arrays` sind Objekte mit einer Reihe von Methoden!\n",
    "\n",
    "- `axis` - kwarg!"
   ]
  },
  {
   "cell_type": "code",
   "execution_count": 37,
   "metadata": {
    "pycharm": {
     "name": "#%%\n"
    }
   },
   "outputs": [
    {
     "name": "stdout",
     "output_type": "stream",
     "text": [
      "['T', 'all', 'any', 'argmax', 'argmin', 'argpartition', 'argsort', 'astype', 'base', 'byteswap', 'choose', 'clip', 'compress', 'conj', 'conjugate', 'copy', 'ctypes', 'cumprod', 'cumsum', 'data', 'diagonal', 'dot', 'dtype', 'dump', 'dumps', 'fill', 'flags', 'flat', 'flatten', 'getfield', 'imag', 'item', 'itemset', 'itemsize', 'max', 'mean', 'min', 'nbytes', 'ndim', 'newbyteorder', 'nonzero', 'partition', 'prod', 'ptp', 'put', 'ravel', 'real', 'repeat', 'reshape', 'resize', 'round', 'searchsorted', 'setfield', 'setflags', 'shape', 'size', 'sort', 'squeeze', 'std', 'strides', 'sum', 'swapaxes', 'take', 'tobytes', 'tofile', 'tolist', 'tostring', 'trace', 'transpose', 'var', 'view']\n"
     ]
    }
   ],
   "source": [
    "print([meth for meth in dir(X) if not meth.startswith('__')])"
   ]
  },
  {
   "cell_type": "markdown",
   "metadata": {},
   "source": [
    "Um zum Beispiel den Mittelwert eines Arrays zu berechnen, ruft man die Methode `.mean()` auf:"
   ]
  },
  {
   "cell_type": "code",
   "execution_count": 38,
   "metadata": {
    "pycharm": {
     "name": "#%%\n"
    }
   },
   "outputs": [
    {
     "data": {
      "text/plain": "0.35947008143855164"
     },
     "execution_count": 38,
     "metadata": {},
     "output_type": "execute_result"
    }
   ],
   "source": [
    "X.mean()"
   ]
  },
  {
   "cell_type": "markdown",
   "metadata": {},
   "source": [
    "Um den **Mittelwert entlang einer Achse** (Spalte oder Reihe bei zwei dimensionalen Arrays) zu berechnen, kann man die Achse als *keyword-argument* übergeben:"
   ]
  },
  {
   "cell_type": "code",
   "execution_count": 39,
   "metadata": {
    "pycharm": {
     "name": "#%%\n"
    }
   },
   "outputs": [
    {
     "data": {
      "text/plain": "array([0.44494143, 0.46162052, 0.36106589, 0.21320644, 0.31651612])"
     },
     "execution_count": 39,
     "metadata": {},
     "output_type": "execute_result"
    }
   ],
   "source": [
    "X.mean(axis=0)"
   ]
  },
  {
   "cell_type": "markdown",
   "metadata": {},
   "source": [
    "##### *broadcasting!*\n",
    "*Broadcasting* ermöglicht effiziente Operationen auf Arrays von unterschiedlicher Grösse. Dabei wird die Operation mit dem kleineren Arrays auf dem grösseren Array mehrfach ausgeführt. Broadcasting folgt dabei den folgenden Regeln:\n",
    "1. Wenn das kleinere Array nicht von gleicher Dimension ist wie das grössere Array, dann werden dem kleineren Array 1-dimensionale Erweiterungen hinzugefügt.\n",
    "2. Zwei Arrays sind kompatibel in einer Dimension, wenn sie die gleiche Grösse in dieser Dimension haben, oder wenn das eine Array 1-dimensional ist in dieser Dimension.\n",
    "3. Arrays welche in allen Dimensionen kompatibel sind können 'ge-broadcasted' werden.\n",
    "4. Durch broadcasting verhalten sich die Arrays so, wie wenn sie dimensionsweise maximale Dimension hätten.\n",
    "5. Wenn ein Array in einer Dimension 1-dimensional ist, so verhält es sich so, wie wenn dessen Inhalt entlang dieser Achse kopiert werden würde.\n"
   ]
  },
  {
   "cell_type": "markdown",
   "metadata": {},
   "source": [
    "![Broadcasting](../res/02.05-broadcasting.png)"
   ]
  },
  {
   "cell_type": "markdown",
   "metadata": {},
   "source": [
    "Mehr Dokumentation zum Thema findet sich [hier](http://docs.scipy.org/doc/numpy/user/basics.broadcasting.html), oder [hier](http://wiki.scipy.org/EricsBroadcastingDoc).\n",
    "\n",
    "Ein kleines Beispiel:"
   ]
  },
  {
   "cell_type": "code",
   "execution_count": 40,
   "metadata": {
    "pycharm": {
     "name": "#%%\n"
    }
   },
   "outputs": [],
   "source": [
    "X = np.array([\n",
    "        [1, 3, 5],\n",
    "        [3, 8, 7],\n",
    "        [2, 4, 6],\n",
    "    ])"
   ]
  },
  {
   "cell_type": "code",
   "execution_count": 41,
   "metadata": {
    "pycharm": {
     "name": "#%%\n"
    }
   },
   "outputs": [
    {
     "data": {
      "text/plain": "(3, 3)"
     },
     "execution_count": 41,
     "metadata": {},
     "output_type": "execute_result"
    }
   ],
   "source": [
    "X.shape"
   ]
  },
  {
   "cell_type": "code",
   "execution_count": 42,
   "metadata": {
    "pycharm": {
     "name": "#%%\n"
    }
   },
   "outputs": [
    {
     "data": {
      "text/plain": "array([2., 5., 6.])"
     },
     "execution_count": 42,
     "metadata": {},
     "output_type": "execute_result"
    }
   ],
   "source": [
    "X.mean(axis=0)"
   ]
  },
  {
   "cell_type": "code",
   "execution_count": 43,
   "metadata": {
    "pycharm": {
     "name": "#%%\n"
    }
   },
   "outputs": [
    {
     "data": {
      "text/plain": "(3,)"
     },
     "execution_count": 43,
     "metadata": {},
     "output_type": "execute_result"
    }
   ],
   "source": [
    "X.mean(axis=0).shape"
   ]
  },
  {
   "cell_type": "code",
   "execution_count": 44,
   "metadata": {
    "pycharm": {
     "name": "#%%\n"
    }
   },
   "outputs": [
    {
     "data": {
      "text/plain": "array([[-1., -2., -1.],\n       [ 1.,  3.,  1.],\n       [ 0., -1.,  0.]])"
     },
     "execution_count": 44,
     "metadata": {},
     "output_type": "execute_result"
    }
   ],
   "source": [
    "(X - X.mean(axis=0))"
   ]
  },
  {
   "cell_type": "markdown",
   "metadata": {},
   "source": [
    "Die **Transponierte** $\\mathbf{X}^T$ einer Matrix $\\mathbf{X}$ entsteht durch Tauschen von Reihen und Spalten."
   ]
  },
  {
   "cell_type": "code",
   "execution_count": 45,
   "metadata": {
    "pycharm": {
     "name": "#%%\n"
    }
   },
   "outputs": [
    {
     "data": {
      "text/plain": "array([ True,  True,  True])"
     },
     "execution_count": 45,
     "metadata": {},
     "output_type": "execute_result"
    }
   ],
   "source": [
    "X.T[:, 0] == X[0]"
   ]
  },
  {
   "cell_type": "markdown",
   "metadata": {},
   "source": [
    "##### Matrix Multiplikation und Array Operationen\n",
    "\n",
    "Die Multiplikation zweier Matrizen $A \\in \\mathbf{R}^{l \\times m}$ und $B \\in \\mathbf{R}^{m \\times n}$ ist bekanntlich wie folgt definiert:\n",
    "\n",
    "$\n",
    "(AB)_{ij} = \\sum_{k=1}^m A_{ik} B_{kj}\n",
    "$\n",
    "\n",
    "Betrachten wir $n$-dimensionale **Vektoren** als Matrizen $v \\in \\mathbf{R}^{n \\times 1} = \\mathbf{R}^n$ bzw. $v^T \\in \\mathbf{R}^{1 \\times n}$ so kann diese Definition auch für Matrix-Vektor-Multiplikation übernommen werden. Beachten Sie, dass die Spaltenzahl der ersten Matrix mit der Zeilenzahl der zweiten Matrix übereinstimmen muss.\n",
    "\n",
    "Betrachten wir nun wie Matrizen in `python` mit `numpy` multipliziert werden können:"
   ]
  },
  {
   "cell_type": "code",
   "execution_count": 46,
   "metadata": {
    "pycharm": {
     "name": "#%%\n"
    }
   },
   "outputs": [],
   "source": [
    "A = np.array([\n",
    "        [1, 2, 3],\n",
    "        [4, 5, 6],\n",
    "        [7, 8, 9]])\n",
    "\n",
    "B = np.array([\n",
    "        [1, 3, 5],\n",
    "        [1, 3, 5],\n",
    "        [1, 3, 5]])"
   ]
  },
  {
   "cell_type": "code",
   "execution_count": 47,
   "metadata": {
    "pycharm": {
     "name": "#%%\n"
    }
   },
   "outputs": [],
   "source": [
    "def naive_matrix_mult(A, B):\n",
    "    ''' Computes the product of two matrices naively '''\n",
    "    C = []\n",
    "    for k in range(A.shape[0]):\n",
    "        row = []\n",
    "        for l in range(B.shape[1]):\n",
    "            ij = 0\n",
    "            for i in range(A.shape[1]):\n",
    "                ij += A[k, i]*B[i, l]\n",
    "            row.append(ij)\n",
    "        C.append(row)\n",
    "    return np.array(C)"
   ]
  },
  {
   "cell_type": "code",
   "execution_count": 48,
   "metadata": {
    "pycharm": {
     "name": "#%%\n"
    }
   },
   "outputs": [
    {
     "name": "stdout",
     "output_type": "stream",
     "text": [
      "20.5 µs ± 339 ns per loop (mean ± std. dev. of 7 runs, 10000 loops each)\n"
     ]
    }
   ],
   "source": [
    "%timeit naive_matrix_mult(A, B)"
   ]
  },
  {
   "cell_type": "markdown",
   "metadata": {},
   "source": [
    "##### `dot`"
   ]
  },
  {
   "cell_type": "code",
   "execution_count": 49,
   "metadata": {
    "pycharm": {
     "name": "#%%\n"
    }
   },
   "outputs": [
    {
     "name": "stdout",
     "output_type": "stream",
     "text": [
      "1.15 µs ± 114 ns per loop (mean ± std. dev. of 7 runs, 1000000 loops each)\n"
     ]
    }
   ],
   "source": [
    "%timeit np.dot(A, B)"
   ]
  },
  {
   "cell_type": "markdown",
   "metadata": {},
   "source": [
    "##### `dot` != * !!\n",
    "\n",
    "Während in `numpy` die Matrix-Matrix und die Matrix-Vektor-Multiplikation mit `dot` auszuführen ist, wird der `*`-Operator für die elementweise Multiplikation zweier Arrays verwendet. Das Resultat ist also NICHT dasselbe!"
   ]
  },
  {
   "cell_type": "markdown",
   "metadata": {},
   "source": [
    "#### Plotting mit [matplotlib](http://matplotlib.org/) - crash-Kurs"
   ]
  },
  {
   "cell_type": "code",
   "execution_count": 50,
   "metadata": {
    "pycharm": {
     "name": "#%%\n"
    }
   },
   "outputs": [],
   "source": [
    "from matplotlib import pyplot as plt\n",
    "%matplotlib inline"
   ]
  },
  {
   "cell_type": "code",
   "execution_count": 51,
   "metadata": {
    "pycharm": {
     "name": "#%%\n"
    }
   },
   "outputs": [
    {
     "data": {
      "text/plain": "Text(0, 0.5, '$\\\\sin (x) + \\\\epsilon$')"
     },
     "execution_count": 51,
     "metadata": {},
     "output_type": "execute_result"
    },
    {
     "data": {
      "text/plain": "<Figure size 432x288 with 1 Axes>",
      "image/png": "[encoded data removed]"
     },
     "metadata": {
      "needs_background": "light"
     },
     "output_type": "display_data"
    }
   ],
   "source": [
    "x = np.linspace(-2*np.pi, 2*np.pi, 100)\n",
    "fig, ax = plt.subplots()\n",
    "ax.plot(x, np.sin(x)+np.random.randn(len(x))*0.5)\n",
    "ax.set_title('Sinusfunktion mit Rauschen')\n",
    "ax.set_xlabel('x')\n",
    "ax.set_ylabel(r'$\\sin (x) + \\epsilon$')"
   ]
  },
  {
   "cell_type": "markdown",
   "metadata": {},
   "source": [
    "#### [`pandas`](https://pandas.pydata.org/pandas-docs/stable/index.html) zum Laden und Manipulieren von Daten - crash-Kurs"
   ]
  },
  {
   "cell_type": "code",
   "execution_count": 52,
   "metadata": {
    "pycharm": {
     "name": "#%%\n"
    }
   },
   "outputs": [],
   "source": [
    "import pandas as pd"
   ]
  },
  {
   "cell_type": "code",
   "execution_count": 53,
   "metadata": {
    "pycharm": {
     "name": "#%%\n"
    }
   },
   "outputs": [],
   "source": [
    "df = pd.read_csv(file_path('data/iris_data.csv'))"
   ]
  },
  {
   "cell_type": "code",
   "execution_count": 54,
   "metadata": {
    "pycharm": {
     "name": "#%%\n"
    }
   },
   "outputs": [
    {
     "data": {
      "text/plain": "pandas.core.frame.DataFrame"
     },
     "execution_count": 54,
     "metadata": {},
     "output_type": "execute_result"
    }
   ],
   "source": [
    "type(df)"
   ]
  },
  {
   "cell_type": "code",
   "execution_count": 55,
   "metadata": {
    "pycharm": {
     "name": "#%%\n"
    }
   },
   "outputs": [
    {
     "data": {
      "text/plain": "   sepal length  sepal width  petal length  petal width    name\n0           5.1          3.5           1.4          0.2  Setosa\n1           4.9          3.0           1.4          0.2  Setosa\n2           4.7          3.2           1.3          0.2  Setosa\n3           4.6          3.1           1.5          0.2  Setosa\n4           5.0          3.6           1.4          0.2  Setosa",
      "text/html": "<div>\n<style scoped>\n    .dataframe tbody tr th:only-of-type {\n        vertical-align: middle;\n    }\n\n    .dataframe tbody tr th {\n        vertical-align: top;\n    }\n\n    .dataframe thead th {\n        text-align: right;\n    }\n</style>\n<table border=\"1\" class=\"dataframe\">\n  <thead>\n    <tr style=\"text-align: right;\">\n      <th></th>\n      <th>sepal length</th>\n      <th>sepal width</th>\n      <th>petal length</th>\n      <th>petal width</th>\n      <th>name</th>\n    </tr>\n  </thead>\n  <tbody>\n    <tr>\n      <th>0</th>\n      <td>5.1</td>\n      <td>3.5</td>\n      <td>1.4</td>\n      <td>0.2</td>\n      <td>Setosa</td>\n    </tr>\n    <tr>\n      <th>1</th>\n      <td>4.9</td>\n      <td>3.0</td>\n      <td>1.4</td>\n      <td>0.2</td>\n      <td>Setosa</td>\n    </tr>\n    <tr>\n      <th>2</th>\n      <td>4.7</td>\n      <td>3.2</td>\n      <td>1.3</td>\n      <td>0.2</td>\n      <td>Setosa</td>\n    </tr>\n    <tr>\n      <th>3</th>\n      <td>4.6</td>\n      <td>3.1</td>\n      <td>1.5</td>\n      <td>0.2</td>\n      <td>Setosa</td>\n    </tr>\n    <tr>\n      <th>4</th>\n      <td>5.0</td>\n      <td>3.6</td>\n      <td>1.4</td>\n      <td>0.2</td>\n      <td>Setosa</td>\n    </tr>\n  </tbody>\n</table>\n</div>"
     },
     "execution_count": 55,
     "metadata": {},
     "output_type": "execute_result"
    }
   ],
   "source": [
    "df.head()"
   ]
  },
  {
   "cell_type": "code",
   "execution_count": 56,
   "metadata": {
    "pycharm": {
     "name": "#%%\n"
    }
   },
   "outputs": [
    {
     "data": {
      "text/plain": "array([[5.1, 3.5, 1.4, 0.2, 'Setosa'],\n       [4.9, 3.0, 1.4, 0.2, 'Setosa'],\n       [4.7, 3.2, 1.3, 0.2, 'Setosa'],\n       [4.6, 3.1, 1.5, 0.2, 'Setosa'],\n       [5.0, 3.6, 1.4, 0.2, 'Setosa']], dtype=object)"
     },
     "execution_count": 56,
     "metadata": {},
     "output_type": "execute_result"
    }
   ],
   "source": [
    "df.values[:5]"
   ]
  },
  {
   "cell_type": "code",
   "execution_count": 57,
   "metadata": {
    "pycharm": {
     "name": "#%%\n"
    }
   },
   "outputs": [
    {
     "data": {
      "text/plain": "array(['Setosa', 'Versicolor', 'Virginica'], dtype=object)"
     },
     "execution_count": 57,
     "metadata": {},
     "output_type": "execute_result"
    }
   ],
   "source": [
    "df.name.unique()"
   ]
  },
  {
   "cell_type": "code",
   "execution_count": 58,
   "metadata": {
    "pycharm": {
     "name": "#%%\n"
    }
   },
   "outputs": [
    {
     "data": {
      "text/plain": "       sepal length  sepal width  petal length  petal width\ncount    150.000000   150.000000    150.000000   150.000000\nmean       5.843333     3.054000      3.758667     1.198667\nstd        0.828066     0.433594      1.764420     0.763161\nmin        4.300000     2.000000      1.000000     0.100000\n25%        5.100000     2.800000      1.600000     0.300000\n50%        5.800000     3.000000      4.350000     1.300000\n75%        6.400000     3.300000      5.100000     1.800000\nmax        7.900000     4.400000      6.900000     2.500000",
      "text/html": "<div>\n<style scoped>\n    .dataframe tbody tr th:only-of-type {\n        vertical-align: middle;\n    }\n\n    .dataframe tbody tr th {\n        vertical-align: top;\n    }\n\n    .dataframe thead th {\n        text-align: right;\n    }\n</style>\n<table border=\"1\" class=\"dataframe\">\n  <thead>\n    <tr style=\"text-align: right;\">\n      <th></th>\n      <th>sepal length</th>\n      <th>sepal width</th>\n      <th>petal length</th>\n      <th>petal width</th>\n    </tr>\n  </thead>\n  <tbody>\n    <tr>\n      <th>count</th>\n      <td>150.000000</td>\n      <td>150.000000</td>\n      <td>150.000000</td>\n      <td>150.000000</td>\n    </tr>\n    <tr>\n      <th>mean</th>\n      <td>5.843333</td>\n      <td>3.054000</td>\n      <td>3.758667</td>\n      <td>1.198667</td>\n    </tr>\n    <tr>\n      <th>std</th>\n      <td>0.828066</td>\n      <td>0.433594</td>\n      <td>1.764420</td>\n      <td>0.763161</td>\n    </tr>\n    <tr>\n      <th>min</th>\n      <td>4.300000</td>\n      <td>2.000000</td>\n      <td>1.000000</td>\n      <td>0.100000</td>\n    </tr>\n    <tr>\n      <th>25%</th>\n      <td>5.100000</td>\n      <td>2.800000</td>\n      <td>1.600000</td>\n      <td>0.300000</td>\n    </tr>\n    <tr>\n      <th>50%</th>\n      <td>5.800000</td>\n      <td>3.000000</td>\n      <td>4.350000</td>\n      <td>1.300000</td>\n    </tr>\n    <tr>\n      <th>75%</th>\n      <td>6.400000</td>\n      <td>3.300000</td>\n      <td>5.100000</td>\n      <td>1.800000</td>\n    </tr>\n    <tr>\n      <th>max</th>\n      <td>7.900000</td>\n      <td>4.400000</td>\n      <td>6.900000</td>\n      <td>2.500000</td>\n    </tr>\n  </tbody>\n</table>\n</div>"
     },
     "execution_count": 58,
     "metadata": {},
     "output_type": "execute_result"
    }
   ],
   "source": [
    "df.describe()"
   ]
  },
  {
   "cell_type": "code",
   "execution_count": 59,
   "metadata": {
    "pycharm": {
     "name": "#%%\n"
    }
   },
   "outputs": [
    {
     "data": {
      "text/plain": "            sepal length  sepal width  petal length  petal width\nname                                                            \nSetosa               5.0          3.4          1.50          0.2\nVersicolor           5.9          2.8          4.35          1.3\nVirginica            6.5          3.0          5.55          2.0",
      "text/html": "<div>\n<style scoped>\n    .dataframe tbody tr th:only-of-type {\n        vertical-align: middle;\n    }\n\n    .dataframe tbody tr th {\n        vertical-align: top;\n    }\n\n    .dataframe thead th {\n        text-align: right;\n    }\n</style>\n<table border=\"1\" class=\"dataframe\">\n  <thead>\n    <tr style=\"text-align: right;\">\n      <th></th>\n      <th>sepal length</th>\n      <th>sepal width</th>\n      <th>petal length</th>\n      <th>petal width</th>\n    </tr>\n    <tr>\n      <th>name</th>\n      <th></th>\n      <th></th>\n      <th></th>\n      <th></th>\n    </tr>\n  </thead>\n  <tbody>\n    <tr>\n      <th>Setosa</th>\n      <td>5.0</td>\n      <td>3.4</td>\n      <td>1.50</td>\n      <td>0.2</td>\n    </tr>\n    <tr>\n      <th>Versicolor</th>\n      <td>5.9</td>\n      <td>2.8</td>\n      <td>4.35</td>\n      <td>1.3</td>\n    </tr>\n    <tr>\n      <th>Virginica</th>\n      <td>6.5</td>\n      <td>3.0</td>\n      <td>5.55</td>\n      <td>2.0</td>\n    </tr>\n  </tbody>\n</table>\n</div>"
     },
     "execution_count": 59,
     "metadata": {},
     "output_type": "execute_result"
    }
   ],
   "source": [
    "df.groupby('name').median()"
   ]
  },
  {
   "cell_type": "code",
   "execution_count": 60,
   "metadata": {
    "pycharm": {
     "name": "#%%\n"
    }
   },
   "outputs": [
    {
     "data": {
      "text/plain": "            sepal length  sepal width  petal length  petal width\nname                                                            \nSetosa             5.006        3.418         1.464        0.244\nVersicolor         5.936        2.770         4.260        1.326\nVirginica          6.588        2.974         5.552        2.026",
      "text/html": "<div>\n<style scoped>\n    .dataframe tbody tr th:only-of-type {\n        vertical-align: middle;\n    }\n\n    .dataframe tbody tr th {\n        vertical-align: top;\n    }\n\n    .dataframe thead th {\n        text-align: right;\n    }\n</style>\n<table border=\"1\" class=\"dataframe\">\n  <thead>\n    <tr style=\"text-align: right;\">\n      <th></th>\n      <th>sepal length</th>\n      <th>sepal width</th>\n      <th>petal length</th>\n      <th>petal width</th>\n    </tr>\n    <tr>\n      <th>name</th>\n      <th></th>\n      <th></th>\n      <th></th>\n      <th></th>\n    </tr>\n  </thead>\n  <tbody>\n    <tr>\n      <th>Setosa</th>\n      <td>5.006</td>\n      <td>3.418</td>\n      <td>1.464</td>\n      <td>0.244</td>\n    </tr>\n    <tr>\n      <th>Versicolor</th>\n      <td>5.936</td>\n      <td>2.770</td>\n      <td>4.260</td>\n      <td>1.326</td>\n    </tr>\n    <tr>\n      <th>Virginica</th>\n      <td>6.588</td>\n      <td>2.974</td>\n      <td>5.552</td>\n      <td>2.026</td>\n    </tr>\n  </tbody>\n</table>\n</div>"
     },
     "execution_count": 60,
     "metadata": {},
     "output_type": "execute_result"
    }
   ],
   "source": [
    "df.groupby('name').mean()"
   ]
  },
  {
   "cell_type": "code",
   "execution_count": 61,
   "metadata": {
    "pycharm": {
     "name": "#%%\n"
    }
   },
   "outputs": [
    {
     "data": {
      "text/plain": "            petal length  petal width  sepal length  sepal width\nname                                                            \nSetosa             1.464        0.244         5.006        3.418\nVersicolor         4.260        1.326         5.936        2.770\nVirginica          5.552        2.026         6.588        2.974",
      "text/html": "<div>\n<style scoped>\n    .dataframe tbody tr th:only-of-type {\n        vertical-align: middle;\n    }\n\n    .dataframe tbody tr th {\n        vertical-align: top;\n    }\n\n    .dataframe thead th {\n        text-align: right;\n    }\n</style>\n<table border=\"1\" class=\"dataframe\">\n  <thead>\n    <tr style=\"text-align: right;\">\n      <th></th>\n      <th>petal length</th>\n      <th>petal width</th>\n      <th>sepal length</th>\n      <th>sepal width</th>\n    </tr>\n    <tr>\n      <th>name</th>\n      <th></th>\n      <th></th>\n      <th></th>\n      <th></th>\n    </tr>\n  </thead>\n  <tbody>\n    <tr>\n      <th>Setosa</th>\n      <td>1.464</td>\n      <td>0.244</td>\n      <td>5.006</td>\n      <td>3.418</td>\n    </tr>\n    <tr>\n      <th>Versicolor</th>\n      <td>4.260</td>\n      <td>1.326</td>\n      <td>5.936</td>\n      <td>2.770</td>\n    </tr>\n    <tr>\n      <th>Virginica</th>\n      <td>5.552</td>\n      <td>2.026</td>\n      <td>6.588</td>\n      <td>2.974</td>\n    </tr>\n  </tbody>\n</table>\n</div>"
     },
     "execution_count": 61,
     "metadata": {},
     "output_type": "execute_result"
    }
   ],
   "source": [
    "df.pivot_table(index='name', aggfunc=np.mean)"
   ]
  },
  {
   "cell_type": "markdown",
   "metadata": {},
   "source": [
    "#### [`seaborn`](https://seaborn.pydata.org) zum Visualisieren von Daten - crash-Kurs\n",
    "\n",
    "Baut auf matplotlib auf und erweitert es mit üblichen Plots."
   ]
  },
  {
   "cell_type": "code",
   "execution_count": 62,
   "metadata": {
    "pycharm": {
     "name": "#%%\n"
    }
   },
   "outputs": [],
   "source": [
    "import seaborn as sns"
   ]
  },
  {
   "cell_type": "markdown",
   "metadata": {},
   "source": [
    "##### Pairplot"
   ]
  },
  {
   "cell_type": "code",
   "execution_count": 63,
   "metadata": {
    "pycharm": {
     "name": "#%%\n"
    }
   },
   "outputs": [
    {
     "data": {
      "text/plain": "<Figure size 805x720 with 20 Axes>",
      "image/png": "[encoded data removed]"
     },
     "metadata": {
      "needs_background": "light"
     },
     "output_type": "display_data"
    }
   ],
   "source": [
    "ax = sns.pairplot(df, hue='name', diag_kind='hist')"
   ]
  },
  {
   "cell_type": "markdown",
   "metadata": {},
   "source": [
    "### Ein Datensatz aus der Region - Ein Beispiel\n",
    "\n",
    "https://data.stadt-zuerich.ch/dataset/bau_best_whg_pers_haush_quartier_neubauart_gemeinnuetzig_seit2014"
   ]
  },
  {
   "cell_type": "code",
   "execution_count": 64,
   "metadata": {
    "pycharm": {
     "name": "#%%\n"
    }
   },
   "outputs": [],
   "source": [
    "# load it into a data frame\n",
    "df = pd.read_csv(file_path('data/haushaltsstruktur_zuerich.csv'), skiprows=13, na_values='.')"
   ]
  },
  {
   "cell_type": "code",
   "execution_count": 65,
   "metadata": {
    "pycharm": {
     "name": "#%%\n"
    }
   },
   "outputs": [
    {
     "data": {
      "text/plain": "   ReportJahr  StatistikJahr  QuarSort  QuarLang               HptEigGruppe  \\\n0        2017           2014        10  Altstadt       Im Stockwerkeigentum   \n1        2017           2015        10  Altstadt       Im Stockwerkeigentum   \n2        2017           2016        10  Altstadt       Im Stockwerkeigentum   \n3        2017           2014        10  Altstadt  Öffentl./Genossenschaftl.   \n4        2017           2015        10  Altstadt  Öffentl./Genossenschaftl.   \n\n     ArtErsatzneubau  AnzWhgBew  WohnFlBew  PersInWhgGT2  inHh_PamK  \\\n0  Altbau (bis 2006)        265      20703         441.0       75.0   \n1  Altbau (bis 2006)        265      21087         459.0       87.0   \n2  Altbau (bis 2006)        277      21604         469.0       73.0   \n3  Altbau (bis 2006)        761      54700        1418.0      350.0   \n4  Altbau (bis 2006)        757      53684        1402.0      350.0   \n\n   inHh_1ElK  inHh_UemK  inHh_1P  inHh_2P  inHh_EpoK  inHh_WGoK  \n0        7.0        3.0    140.0    106.0       66.0       42.0  \n1        7.0        6.0    135.0    100.0       76.0       49.0  \n2       14.0       11.0    145.0    102.0       76.0       49.0  \n3      117.0      142.0    402.0    160.0      174.0       82.0  \n4      109.0      127.0    412.0    158.0      178.0       65.0  ",
      "text/html": "<div>\n<style scoped>\n    .dataframe tbody tr th:only-of-type {\n        vertical-align: middle;\n    }\n\n    .dataframe tbody tr th {\n        vertical-align: top;\n    }\n\n    .dataframe thead th {\n        text-align: right;\n    }\n</style>\n<table border=\"1\" class=\"dataframe\">\n  <thead>\n    <tr style=\"text-align: right;\">\n      <th></th>\n      <th>ReportJahr</th>\n      <th>StatistikJahr</th>\n      <th>QuarSort</th>\n      <th>QuarLang</th>\n      <th>HptEigGruppe</th>\n      <th>ArtErsatzneubau</th>\n      <th>AnzWhgBew</th>\n      <th>WohnFlBew</th>\n      <th>PersInWhgGT2</th>\n      <th>inHh_PamK</th>\n      <th>inHh_1ElK</th>\n      <th>inHh_UemK</th>\n      <th>inHh_1P</th>\n      <th>inHh_2P</th>\n      <th>inHh_EpoK</th>\n      <th>inHh_WGoK</th>\n    </tr>\n  </thead>\n  <tbody>\n    <tr>\n      <th>0</th>\n      <td>2017</td>\n      <td>2014</td>\n      <td>10</td>\n      <td>Altstadt</td>\n      <td>Im Stockwerkeigentum</td>\n      <td>Altbau (bis 2006)</td>\n      <td>265</td>\n      <td>20703</td>\n      <td>441.0</td>\n      <td>75.0</td>\n      <td>7.0</td>\n      <td>3.0</td>\n      <td>140.0</td>\n      <td>106.0</td>\n      <td>66.0</td>\n      <td>42.0</td>\n    </tr>\n    <tr>\n      <th>1</th>\n      <td>2017</td>\n      <td>2015</td>\n      <td>10</td>\n      <td>Altstadt</td>\n      <td>Im Stockwerkeigentum</td>\n      <td>Altbau (bis 2006)</td>\n      <td>265</td>\n      <td>21087</td>\n      <td>459.0</td>\n      <td>87.0</td>\n      <td>7.0</td>\n      <td>6.0</td>\n      <td>135.0</td>\n      <td>100.0</td>\n      <td>76.0</td>\n      <td>49.0</td>\n    </tr>\n    <tr>\n      <th>2</th>\n      <td>2017</td>\n      <td>2016</td>\n      <td>10</td>\n      <td>Altstadt</td>\n      <td>Im Stockwerkeigentum</td>\n      <td>Altbau (bis 2006)</td>\n      <td>277</td>\n      <td>21604</td>\n      <td>469.0</td>\n      <td>73.0</td>\n      <td>14.0</td>\n      <td>11.0</td>\n      <td>145.0</td>\n      <td>102.0</td>\n      <td>76.0</td>\n      <td>49.0</td>\n    </tr>\n    <tr>\n      <th>3</th>\n      <td>2017</td>\n      <td>2014</td>\n      <td>10</td>\n      <td>Altstadt</td>\n      <td>Öffentl./Genossenschaftl.</td>\n      <td>Altbau (bis 2006)</td>\n      <td>761</td>\n      <td>54700</td>\n      <td>1418.0</td>\n      <td>350.0</td>\n      <td>117.0</td>\n      <td>142.0</td>\n      <td>402.0</td>\n      <td>160.0</td>\n      <td>174.0</td>\n      <td>82.0</td>\n    </tr>\n    <tr>\n      <th>4</th>\n      <td>2017</td>\n      <td>2015</td>\n      <td>10</td>\n      <td>Altstadt</td>\n      <td>Öffentl./Genossenschaftl.</td>\n      <td>Altbau (bis 2006)</td>\n      <td>757</td>\n      <td>53684</td>\n      <td>1402.0</td>\n      <td>350.0</td>\n      <td>109.0</td>\n      <td>127.0</td>\n      <td>412.0</td>\n      <td>158.0</td>\n      <td>178.0</td>\n      <td>65.0</td>\n    </tr>\n  </tbody>\n</table>\n</div>"
     },
     "execution_count": 65,
     "metadata": {},
     "output_type": "execute_result"
    }
   ],
   "source": [
    "df.head()"
   ]
  },
  {
   "cell_type": "code",
   "execution_count": 66,
   "metadata": {
    "pycharm": {
     "name": "#%%\n"
    }
   },
   "outputs": [
    {
     "data": {
      "text/plain": "       ReportJahr  StatistikJahr    QuarSort    AnzWhgBew      WohnFlBew  \\\ncount       823.0     823.000000  823.000000   823.000000     823.000000   \nmean       2017.0    2015.015796   73.682868   706.958688   55609.456865   \nstd           0.0       0.817088   33.431708  1473.981822  109756.607815   \nmin        2017.0    2014.000000   10.000000     1.000000      68.000000   \n25%        2017.0    2014.000000   42.000000    24.000000    2769.500000   \n50%        2017.0    2015.000000   74.000000    99.000000    9632.000000   \n75%        2017.0    2016.000000  102.000000   447.000000   44569.500000   \nmax        2017.0    2016.000000  123.000000  9335.000000  666006.000000   \n\n       PersInWhgGT2    inHh_PamK   inHh_1ElK    inHh_UemK      inHh_1P  \\\ncount    810.000000   786.000000  786.000000   786.000000   786.000000   \nmean    1446.625926   446.871501   80.234097   112.044529   325.521628   \nstd     2864.468735   818.874884  163.237449   213.503011   710.885281   \nmin        3.000000     0.000000    0.000000     0.000000     0.000000   \n25%       57.000000    21.000000    0.000000     4.250000     9.000000   \n50%      224.500000    78.000000    8.000000    17.000000    32.500000   \n75%     1036.000000   411.000000   57.750000   109.000000   188.500000   \nmax    18173.000000  4907.000000  801.000000  1616.000000  4325.000000   \n\n           inHh_2P    inHh_EpoK    inHh_WGoK  \ncount   786.000000   786.000000   786.000000  \nmean    224.505089   182.791349   116.222646  \nstd     505.840715   354.906802   269.513731  \nmin       0.000000     0.000000     0.000000  \n25%       8.000000     8.000000     3.000000  \n50%      36.000000    30.000000    15.000000  \n75%     164.000000   149.500000    85.000000  \nmax    3198.000000  2494.000000  1813.000000  ",
      "text/html": "<div>\n<style scoped>\n    .dataframe tbody tr th:only-of-type {\n        vertical-align: middle;\n    }\n\n    .dataframe tbody tr th {\n        vertical-align: top;\n    }\n\n    .dataframe thead th {\n        text-align: right;\n    }\n</style>\n<table border=\"1\" class=\"dataframe\">\n  <thead>\n    <tr style=\"text-align: right;\">\n      <th></th>\n      <th>ReportJahr</th>\n      <th>StatistikJahr</th>\n      <th>QuarSort</th>\n      <th>AnzWhgBew</th>\n      <th>WohnFlBew</th>\n      <th>PersInWhgGT2</th>\n      <th>inHh_PamK</th>\n      <th>inHh_1ElK</th>\n      <th>inHh_UemK</th>\n      <th>inHh_1P</th>\n      <th>inHh_2P</th>\n      <th>inHh_EpoK</th>\n      <th>inHh_WGoK</th>\n    </tr>\n  </thead>\n  <tbody>\n    <tr>\n      <th>count</th>\n      <td>823.0</td>\n      <td>823.000000</td>\n      <td>823.000000</td>\n      <td>823.000000</td>\n      <td>823.000000</td>\n      <td>810.000000</td>\n      <td>786.000000</td>\n      <td>786.000000</td>\n      <td>786.000000</td>\n      <td>786.000000</td>\n      <td>786.000000</td>\n      <td>786.000000</td>\n      <td>786.000000</td>\n    </tr>\n    <tr>\n      <th>mean</th>\n      <td>2017.0</td>\n      <td>2015.015796</td>\n      <td>73.682868</td>\n      <td>706.958688</td>\n      <td>55609.456865</td>\n      <td>1446.625926</td>\n      <td>446.871501</td>\n      <td>80.234097</td>\n      <td>112.044529</td>\n      <td>325.521628</td>\n      <td>224.505089</td>\n      <td>182.791349</td>\n      <td>116.222646</td>\n    </tr>\n    <tr>\n      <th>std</th>\n      <td>0.0</td>\n      <td>0.817088</td>\n      <td>33.431708</td>\n      <td>1473.981822</td>\n      <td>109756.607815</td>\n      <td>2864.468735</td>\n      <td>818.874884</td>\n      <td>163.237449</td>\n      <td>213.503011</td>\n      <td>710.885281</td>\n      <td>505.840715</td>\n      <td>354.906802</td>\n      <td>269.513731</td>\n    </tr>\n    <tr>\n      <th>min</th>\n      <td>2017.0</td>\n      <td>2014.000000</td>\n      <td>10.000000</td>\n      <td>1.000000</td>\n      <td>68.000000</td>\n      <td>3.000000</td>\n      <td>0.000000</td>\n      <td>0.000000</td>\n      <td>0.000000</td>\n      <td>0.000000</td>\n      <td>0.000000</td>\n      <td>0.000000</td>\n      <td>0.000000</td>\n    </tr>\n    <tr>\n      <th>25%</th>\n      <td>2017.0</td>\n      <td>2014.000000</td>\n      <td>42.000000</td>\n      <td>24.000000</td>\n      <td>2769.500000</td>\n      <td>57.000000</td>\n      <td>21.000000</td>\n      <td>0.000000</td>\n      <td>4.250000</td>\n      <td>9.000000</td>\n      <td>8.000000</td>\n      <td>8.000000</td>\n      <td>3.000000</td>\n    </tr>\n    <tr>\n      <th>50%</th>\n      <td>2017.0</td>\n      <td>2015.000000</td>\n      <td>74.000000</td>\n      <td>99.000000</td>\n      <td>9632.000000</td>\n      <td>224.500000</td>\n      <td>78.000000</td>\n      <td>8.000000</td>\n      <td>17.000000</td>\n      <td>32.500000</td>\n      <td>36.000000</td>\n      <td>30.000000</td>\n      <td>15.000000</td>\n    </tr>\n    <tr>\n      <th>75%</th>\n      <td>2017.0</td>\n      <td>2016.000000</td>\n      <td>102.000000</td>\n      <td>447.000000</td>\n      <td>44569.500000</td>\n      <td>1036.000000</td>\n      <td>411.000000</td>\n      <td>57.750000</td>\n      <td>109.000000</td>\n      <td>188.500000</td>\n      <td>164.000000</td>\n      <td>149.500000</td>\n      <td>85.000000</td>\n    </tr>\n    <tr>\n      <th>max</th>\n      <td>2017.0</td>\n      <td>2016.000000</td>\n      <td>123.000000</td>\n      <td>9335.000000</td>\n      <td>666006.000000</td>\n      <td>18173.000000</td>\n      <td>4907.000000</td>\n      <td>801.000000</td>\n      <td>1616.000000</td>\n      <td>4325.000000</td>\n      <td>3198.000000</td>\n      <td>2494.000000</td>\n      <td>1813.000000</td>\n    </tr>\n  </tbody>\n</table>\n</div>"
     },
     "execution_count": 66,
     "metadata": {},
     "output_type": "execute_result"
    }
   ],
   "source": [
    "df.describe()"
   ]
  },
  {
   "cell_type": "code",
   "execution_count": 67,
   "metadata": {
    "pycharm": {
     "name": "#%%\n"
    }
   },
   "outputs": [
    {
     "data": {
      "text/plain": "Index(['ReportJahr', 'StatistikJahr', 'QuarSort', 'QuarLang', 'HptEigGruppe',\n       'ArtErsatzneubau', 'AnzWhgBew', 'WohnFlBew', 'PersInWhgGT2',\n       'inHh_PamK', 'inHh_1ElK', 'inHh_UemK', 'inHh_1P', 'inHh_2P',\n       'inHh_EpoK', 'inHh_WGoK'],\n      dtype='object')"
     },
     "execution_count": 67,
     "metadata": {},
     "output_type": "execute_result"
    }
   ],
   "source": [
    "df.columns"
   ]
  },
  {
   "cell_type": "code",
   "execution_count": 68,
   "metadata": {
    "pycharm": {
     "name": "#%%\n"
    }
   },
   "outputs": [
    {
     "data": {
      "text/plain": "StatistikJahr\n2014    191036\n2015    194049\n2016    196742\nName: AnzWhgBew, dtype: int64"
     },
     "execution_count": 68,
     "metadata": {},
     "output_type": "execute_result"
    }
   ],
   "source": [
    "df.groupby(['StatistikJahr']).agg(np.sum)['AnzWhgBew']"
   ]
  },
  {
   "cell_type": "code",
   "execution_count": 69,
   "metadata": {
    "pycharm": {
     "name": "#%%\n"
    }
   },
   "outputs": [
    {
     "data": {
      "text/plain": "<Figure size 432x288 with 1 Axes>",
      "image/png": "[encoded data removed]"
     },
     "metadata": {
      "needs_background": "light"
     },
     "output_type": "display_data"
    }
   ],
   "source": [
    "_ = df.groupby(['StatistikJahr']).agg(np.sum)['AnzWhgBew'].plot()"
   ]
  },
  {
   "cell_type": "code",
   "execution_count": 70,
   "metadata": {
    "pycharm": {
     "name": "#%%\n"
    }
   },
   "outputs": [
    {
     "data": {
      "text/plain": "<Figure size 432x288 with 1 Axes>",
      "image/png": "[encoded data removed]"
     },
     "metadata": {
      "needs_background": "light"
     },
     "output_type": "display_data"
    }
   ],
   "source": [
    "_ = df.groupby(['StatistikJahr']).agg(np.sum)['AnzWhgBew'].plot(kind='bar')"
   ]
  },
  {
   "cell_type": "code",
   "execution_count": 71,
   "metadata": {
    "pycharm": {
     "name": "#%%\n"
    }
   },
   "outputs": [
    {
     "data": {
      "text/plain": "Index(['ReportJahr', 'StatistikJahr', 'QuarSort', 'QuarLang', 'HptEigGruppe',\n       'ArtErsatzneubau', 'AnzWhgBew', 'WohnFlBew', 'PersInWhgGT2',\n       'inHh_PamK', 'inHh_1ElK', 'inHh_UemK', 'inHh_1P', 'inHh_2P',\n       'inHh_EpoK', 'inHh_WGoK'],\n      dtype='object')"
     },
     "execution_count": 71,
     "metadata": {},
     "output_type": "execute_result"
    }
   ],
   "source": [
    "df.columns"
   ]
  },
  {
   "cell_type": "code",
   "execution_count": 72,
   "metadata": {
    "pycharm": {
     "name": "#%%\n"
    }
   },
   "outputs": [],
   "source": [
    "# let's create a pivot table\n",
    "pivdf = df.pivot_table(\n",
    "    index=['StatistikJahr', 'QuarLang',],\n",
    "    values=['inHh_PamK', 'inHh_1ElK', 'inHh_UemK', 'inHh_1P', 'inHh_2P',\n",
    "       'inHh_EpoK', 'inHh_WGoK'],\n",
    "    aggfunc=np.sum\n",
    ")"
   ]
  },
  {
   "cell_type": "code",
   "execution_count": 73,
   "metadata": {
    "pycharm": {
     "name": "#%%\n"
    }
   },
   "outputs": [],
   "source": [
    "# select only the data of 2016\n",
    "pivdf2016 = pivdf.loc[2016]"
   ]
  },
  {
   "cell_type": "code",
   "execution_count": 74,
   "metadata": {
    "pycharm": {
     "name": "#%%\n"
    }
   },
   "outputs": [],
   "source": [
    "# calculate fractions of columns for all rows / neighbourhoods\n",
    "fractions = pivdf2016.values / np.atleast_2d(pivdf2016.T.groupby(level=0).agg(np.sum).sum(axis=0).values).T"
   ]
  },
  {
   "cell_type": "code",
   "execution_count": 75,
   "metadata": {
    "pycharm": {
     "name": "#%%\n"
    }
   },
   "outputs": [],
   "source": [
    "# put it back into a data frame with same annotations as above\n",
    "fracdf = pd.DataFrame(fractions, columns=pivdf2016.columns, index=pivdf2016.index)"
   ]
  },
  {
   "cell_type": "code",
   "execution_count": 76,
   "metadata": {
    "pycharm": {
     "name": "#%%\n"
    }
   },
   "outputs": [
    {
     "data": {
      "text/plain": "                      inHh_1ElK   inHh_1P   inHh_2P  inHh_EpoK  inHh_PamK  \\\nQuarLang                                                                    \nAffoltern              0.066795  0.161850  0.105208   0.136867   0.386337   \nAlbisrieden            0.049046  0.222620  0.152533   0.142822   0.318505   \nAlt-Wiedikon           0.029323  0.250400  0.189325   0.095018   0.258042   \nAltstadt               0.043320  0.335223  0.182996   0.119433   0.179960   \nAltstetten             0.056265  0.213603  0.135574   0.139382   0.303155   \nEnge                   0.037262  0.227964  0.161657   0.116852   0.292919   \nEscher Wyss            0.032686  0.183922  0.258657   0.108127   0.201060   \nFluntern               0.054796  0.185090  0.118252   0.153700   0.321201   \nFriesenberg            0.088965  0.124570  0.059565   0.117029   0.517373   \nGewerbeschule          0.042266  0.244460  0.221613   0.088874   0.230295   \nHard                   0.064485  0.230911  0.181104   0.088386   0.262833   \nHirslanden             0.041854  0.247493  0.146781   0.119459   0.299520   \nHirzenbach             0.073356  0.173022  0.101749   0.129059   0.375853   \nHottingen              0.048110  0.224322  0.137457   0.121420   0.314242   \nHöngg                  0.056296  0.203878  0.139964   0.151734   0.334489   \nLangstrasse            0.024990  0.286593  0.260214   0.073185   0.133181   \nLeimbach               0.078895  0.144973  0.083555   0.128495   0.430260   \nMühlebach              0.056503  0.285616  0.169509   0.112317   0.245134   \nOberstrass             0.043654  0.243472  0.144369   0.121988   0.313237   \nOerlikon               0.045055  0.222179  0.174224   0.114087   0.277047   \nSaatlen                0.091354  0.126378  0.075190   0.105560   0.455792   \nSchwamendingen-Mitte   0.061605  0.219243  0.131473   0.141205   0.296364   \nSeebach                0.059441  0.189199  0.128513   0.128513   0.334108   \nSeefeld                0.041357  0.330857  0.194740   0.107609   0.194740   \nSihlfeld               0.048918  0.261406  0.203933   0.085251   0.244051   \nUnterstrass            0.056056  0.227122  0.168767   0.111193   0.313437   \nWeinegg                0.052861  0.239945  0.133303   0.125488   0.308435   \nWerd                   0.021714  0.223208  0.209666   0.069577   0.239785   \nWipkingen              0.051578  0.256351  0.204260   0.097254   0.241981   \nWitikon                0.057867  0.210619  0.100536   0.179250   0.345251   \nWollishofen            0.066552  0.238358  0.124096   0.139322   0.325910   \n\n                      inHh_UemK  inHh_WGoK  \nQuarLang                                    \nAffoltern              0.090419   0.052524  \nAlbisrieden            0.066506   0.047967  \nAlt-Wiedikon           0.093182   0.084711  \nAltstadt               0.035830   0.103239  \nAltstetten             0.083380   0.068641  \nEnge                   0.073173   0.090172  \nEscher Wyss            0.064841   0.150707  \nFluntern               0.092545   0.074415  \nFriesenberg            0.065101   0.027396  \nGewerbeschule          0.064999   0.107494  \nHard                   0.071623   0.100658  \nHirslanden             0.081093   0.063799  \nHirzenbach             0.084763   0.062198  \nHottingen              0.082952   0.071497  \nHöngg                  0.059033   0.054608  \nLangstrasse            0.048592   0.173245  \nLeimbach               0.086551   0.047270  \nMühlebach              0.055297   0.075624  \nOberstrass             0.065632   0.067648  \nOerlikon               0.062506   0.104902  \nSaatlen                0.079843   0.065883  \nSchwamendingen-Mitte   0.072438   0.077672  \nSeebach                0.083849   0.076377  \nSeefeld                0.047982   0.082714  \nSihlfeld               0.073943   0.082498  \nUnterstrass            0.046997   0.076428  \nWeinegg                0.071248   0.068720  \nWerd                   0.098763   0.137287  \nWipkingen              0.052091   0.096484  \nWitikon                0.057477   0.049001  \nWollishofen            0.058495   0.047266  ",
      "text/html": "<div>\n<style scoped>\n    .dataframe tbody tr th:only-of-type {\n        vertical-align: middle;\n    }\n\n    .dataframe tbody tr th {\n        vertical-align: top;\n    }\n\n    .dataframe thead th {\n        text-align: right;\n    }\n</style>\n<table border=\"1\" class=\"dataframe\">\n  <thead>\n    <tr style=\"text-align: right;\">\n      <th></th>\n      <th>inHh_1ElK</th>\n      <th>inHh_1P</th>\n      <th>inHh_2P</th>\n      <th>inHh_EpoK</th>\n      <th>inHh_PamK</th>\n      <th>inHh_UemK</th>\n      <th>inHh_WGoK</th>\n    </tr>\n    <tr>\n      <th>QuarLang</th>\n      <th></th>\n      <th></th>\n      <th></th>\n      <th></th>\n      <th></th>\n      <th></th>\n      <th></th>\n    </tr>\n  </thead>\n  <tbody>\n    <tr>\n      <th>Affoltern</th>\n      <td>0.066795</td>\n      <td>0.161850</td>\n      <td>0.105208</td>\n      <td>0.136867</td>\n      <td>0.386337</td>\n      <td>0.090419</td>\n      <td>0.052524</td>\n    </tr>\n    <tr>\n      <th>Albisrieden</th>\n      <td>0.049046</td>\n      <td>0.222620</td>\n      <td>0.152533</td>\n      <td>0.142822</td>\n      <td>0.318505</td>\n      <td>0.066506</td>\n      <td>0.047967</td>\n    </tr>\n    <tr>\n      <th>Alt-Wiedikon</th>\n      <td>0.029323</td>\n      <td>0.250400</td>\n      <td>0.189325</td>\n      <td>0.095018</td>\n      <td>0.258042</td>\n      <td>0.093182</td>\n      <td>0.084711</td>\n    </tr>\n    <tr>\n      <th>Altstadt</th>\n      <td>0.043320</td>\n      <td>0.335223</td>\n      <td>0.182996</td>\n      <td>0.119433</td>\n      <td>0.179960</td>\n      <td>0.035830</td>\n      <td>0.103239</td>\n    </tr>\n    <tr>\n      <th>Altstetten</th>\n      <td>0.056265</td>\n      <td>0.213603</td>\n      <td>0.135574</td>\n      <td>0.139382</td>\n      <td>0.303155</td>\n      <td>0.083380</td>\n      <td>0.068641</td>\n    </tr>\n    <tr>\n      <th>Enge</th>\n      <td>0.037262</td>\n      <td>0.227964</td>\n      <td>0.161657</td>\n      <td>0.116852</td>\n      <td>0.292919</td>\n      <td>0.073173</td>\n      <td>0.090172</td>\n    </tr>\n    <tr>\n      <th>Escher Wyss</th>\n      <td>0.032686</td>\n      <td>0.183922</td>\n      <td>0.258657</td>\n      <td>0.108127</td>\n      <td>0.201060</td>\n      <td>0.064841</td>\n      <td>0.150707</td>\n    </tr>\n    <tr>\n      <th>Fluntern</th>\n      <td>0.054796</td>\n      <td>0.185090</td>\n      <td>0.118252</td>\n      <td>0.153700</td>\n      <td>0.321201</td>\n      <td>0.092545</td>\n      <td>0.074415</td>\n    </tr>\n    <tr>\n      <th>Friesenberg</th>\n      <td>0.088965</td>\n      <td>0.124570</td>\n      <td>0.059565</td>\n      <td>0.117029</td>\n      <td>0.517373</td>\n      <td>0.065101</td>\n      <td>0.027396</td>\n    </tr>\n    <tr>\n      <th>Gewerbeschule</th>\n      <td>0.042266</td>\n      <td>0.244460</td>\n      <td>0.221613</td>\n      <td>0.088874</td>\n      <td>0.230295</td>\n      <td>0.064999</td>\n      <td>0.107494</td>\n    </tr>\n    <tr>\n      <th>Hard</th>\n      <td>0.064485</td>\n      <td>0.230911</td>\n      <td>0.181104</td>\n      <td>0.088386</td>\n      <td>0.262833</td>\n      <td>0.071623</td>\n      <td>0.100658</td>\n    </tr>\n    <tr>\n      <th>Hirslanden</th>\n      <td>0.041854</td>\n      <td>0.247493</td>\n      <td>0.146781</td>\n      <td>0.119459</td>\n      <td>0.299520</td>\n      <td>0.081093</td>\n      <td>0.063799</td>\n    </tr>\n    <tr>\n      <th>Hirzenbach</th>\n      <td>0.073356</td>\n      <td>0.173022</td>\n      <td>0.101749</td>\n      <td>0.129059</td>\n      <td>0.375853</td>\n      <td>0.084763</td>\n      <td>0.062198</td>\n    </tr>\n    <tr>\n      <th>Hottingen</th>\n      <td>0.048110</td>\n      <td>0.224322</td>\n      <td>0.137457</td>\n      <td>0.121420</td>\n      <td>0.314242</td>\n      <td>0.082952</td>\n      <td>0.071497</td>\n    </tr>\n    <tr>\n      <th>Höngg</th>\n      <td>0.056296</td>\n      <td>0.203878</td>\n      <td>0.139964</td>\n      <td>0.151734</td>\n      <td>0.334489</td>\n      <td>0.059033</td>\n      <td>0.054608</td>\n    </tr>\n    <tr>\n      <th>Langstrasse</th>\n      <td>0.024990</td>\n      <td>0.286593</td>\n      <td>0.260214</td>\n      <td>0.073185</td>\n      <td>0.133181</td>\n      <td>0.048592</td>\n      <td>0.173245</td>\n    </tr>\n    <tr>\n      <th>Leimbach</th>\n      <td>0.078895</td>\n      <td>0.144973</td>\n      <td>0.083555</td>\n      <td>0.128495</td>\n      <td>0.430260</td>\n      <td>0.086551</td>\n      <td>0.047270</td>\n    </tr>\n    <tr>\n      <th>Mühlebach</th>\n      <td>0.056503</td>\n      <td>0.285616</td>\n      <td>0.169509</td>\n      <td>0.112317</td>\n      <td>0.245134</td>\n      <td>0.055297</td>\n      <td>0.075624</td>\n    </tr>\n    <tr>\n      <th>Oberstrass</th>\n      <td>0.043654</td>\n      <td>0.243472</td>\n      <td>0.144369</td>\n      <td>0.121988</td>\n      <td>0.313237</td>\n      <td>0.065632</td>\n      <td>0.067648</td>\n    </tr>\n    <tr>\n      <th>Oerlikon</th>\n      <td>0.045055</td>\n      <td>0.222179</td>\n      <td>0.174224</td>\n      <td>0.114087</td>\n      <td>0.277047</td>\n      <td>0.062506</td>\n      <td>0.104902</td>\n    </tr>\n    <tr>\n      <th>Saatlen</th>\n      <td>0.091354</td>\n      <td>0.126378</td>\n      <td>0.075190</td>\n      <td>0.105560</td>\n      <td>0.455792</td>\n      <td>0.079843</td>\n      <td>0.065883</td>\n    </tr>\n    <tr>\n      <th>Schwamendingen-Mitte</th>\n      <td>0.061605</td>\n      <td>0.219243</td>\n      <td>0.131473</td>\n      <td>0.141205</td>\n      <td>0.296364</td>\n      <td>0.072438</td>\n      <td>0.077672</td>\n    </tr>\n    <tr>\n      <th>Seebach</th>\n      <td>0.059441</td>\n      <td>0.189199</td>\n      <td>0.128513</td>\n      <td>0.128513</td>\n      <td>0.334108</td>\n      <td>0.083849</td>\n      <td>0.076377</td>\n    </tr>\n    <tr>\n      <th>Seefeld</th>\n      <td>0.041357</td>\n      <td>0.330857</td>\n      <td>0.194740</td>\n      <td>0.107609</td>\n      <td>0.194740</td>\n      <td>0.047982</td>\n      <td>0.082714</td>\n    </tr>\n    <tr>\n      <th>Sihlfeld</th>\n      <td>0.048918</td>\n      <td>0.261406</td>\n      <td>0.203933</td>\n      <td>0.085251</td>\n      <td>0.244051</td>\n      <td>0.073943</td>\n      <td>0.082498</td>\n    </tr>\n    <tr>\n      <th>Unterstrass</th>\n      <td>0.056056</td>\n      <td>0.227122</td>\n      <td>0.168767</td>\n      <td>0.111193</td>\n      <td>0.313437</td>\n      <td>0.046997</td>\n      <td>0.076428</td>\n    </tr>\n    <tr>\n      <th>Weinegg</th>\n      <td>0.052861</td>\n      <td>0.239945</td>\n      <td>0.133303</td>\n      <td>0.125488</td>\n      <td>0.308435</td>\n      <td>0.071248</td>\n      <td>0.068720</td>\n    </tr>\n    <tr>\n      <th>Werd</th>\n      <td>0.021714</td>\n      <td>0.223208</td>\n      <td>0.209666</td>\n      <td>0.069577</td>\n      <td>0.239785</td>\n      <td>0.098763</td>\n      <td>0.137287</td>\n    </tr>\n    <tr>\n      <th>Wipkingen</th>\n      <td>0.051578</td>\n      <td>0.256351</td>\n      <td>0.204260</td>\n      <td>0.097254</td>\n      <td>0.241981</td>\n      <td>0.052091</td>\n      <td>0.096484</td>\n    </tr>\n    <tr>\n      <th>Witikon</th>\n      <td>0.057867</td>\n      <td>0.210619</td>\n      <td>0.100536</td>\n      <td>0.179250</td>\n      <td>0.345251</td>\n      <td>0.057477</td>\n      <td>0.049001</td>\n    </tr>\n    <tr>\n      <th>Wollishofen</th>\n      <td>0.066552</td>\n      <td>0.238358</td>\n      <td>0.124096</td>\n      <td>0.139322</td>\n      <td>0.325910</td>\n      <td>0.058495</td>\n      <td>0.047266</td>\n    </tr>\n  </tbody>\n</table>\n</div>"
     },
     "execution_count": 76,
     "metadata": {},
     "output_type": "execute_result"
    }
   ],
   "source": [
    "fracdf"
   ]
  },
  {
   "cell_type": "code",
   "execution_count": 77,
   "metadata": {
    "pycharm": {
     "name": "#%%\n"
    }
   },
   "outputs": [
    {
     "data": {
      "text/plain": "<Figure size 1152x576 with 1 Axes>",
      "image/png": "[encoded data removed]"
     },
     "metadata": {
      "needs_background": "light"
     },
     "output_type": "display_data"
    }
   ],
   "source": [
    "# plot it\n",
    "fig, ax = plt.subplots()\n",
    "fracdf.plot(kind='bar', figsize=(16, 8), ax=ax)\n",
    "ax.set_xlabel('Quartier')\n",
    "ax.set_ylabel('Anteil der Wohnungen')\n",
    "ax.set_title('Anteil der Wohnungen bewohnt in verschiedenen Wohnformen in Zürichs Quartieren im Jahr 2016');"
   ]
  },
  {
   "cell_type": "code",
   "execution_count": 78,
   "metadata": {
    "pycharm": {
     "name": "#%%\n"
    }
   },
   "outputs": [
    {
     "data": {
      "text/plain": "<Figure size 1152x576 with 1 Axes>",
      "image/png": "[encoded data removed]"
     },
     "metadata": {
      "needs_background": "light"
     },
     "output_type": "display_data"
    }
   ],
   "source": [
    "# another descriptive plot of the dataset\n",
    "fig, ax = plt.subplots()\n",
    "pd.pivot_table(df,\n",
    "               index='QuarLang', columns='StatistikJahr', values=\"inHh_PamK\", aggfunc=np.sum\n",
    "              ).plot(kind='bar', figsize=(16, 8), ax=ax)\n",
    "ax.set_title('Entwicklung der Anzahl Wohnungen bewohnt von Paaren mit Kindern in den Quartieren Zürichs in den Jahren 2014-16');"
   ]
  }
 ],
 "metadata": {
  "kernelspec": {
   "display_name": "Python 3",
   "language": "python",
   "name": "python3"
  },
  "language_info": {
   "codemirror_mode": {
    "name": "ipython",
    "version": 3
   },
   "file_extension": ".py",
   "mimetype": "text/x-python",
   "name": "python",
   "nbconvert_exporter": "python",
   "pygments_lexer": "ipython3",
   "version": "3.8.5"
  }
 },
 "nbformat": 4,
 "nbformat_minor": 1
}